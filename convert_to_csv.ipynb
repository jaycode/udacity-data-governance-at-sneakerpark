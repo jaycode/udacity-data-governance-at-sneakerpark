{
 "cells": [
  {
   "cell_type": "code",
   "execution_count": 9,
   "metadata": {},
   "outputs": [],
   "source": [
    "import psycopg2\n",
    "import pandas as pd\n",
    "import os\n",
    "\n",
    "# Save the CSV files here:\n",
    "OUTPUT_DIR = \"data/\"\n",
    "\n",
    "# Database connection details\n",
    "DB_NAME = \"postgres\"\n",
    "DB_USER = \"postgres\"\n",
    "DB_HOST = \"localhost\"\n",
    "DB_PORT = \"5432\"\n",
    "DB_PASS = \"pass\"\n",
    "\n",
    "# Connect to the database\n",
    "conn = psycopg2.connect(dbname=DB_NAME, user=DB_USER, password=DB_PASS, host=DB_HOST, port=DB_PORT)"
   ]
  },
  {
   "cell_type": "code",
   "execution_count": 11,
   "metadata": {},
   "outputs": [
    {
     "name": "stdout",
     "output_type": "stream",
     "text": [
      "Saving data/op.ordershipments.csv...\n",
      "Saving data/im.items.csv...\n",
      "Saving data/cs.customerservicerequests.csv...\n",
      "Saving data/usr.users.csv...\n",
      "Saving data/usr.creditcards.csv...\n",
      "Saving data/li.listings.csv...\n",
      "Saving data/op.orderitems.csv...\n",
      "Saving data/op.orders.csv...\n"
     ]
    }
   ],
   "source": [
    "# Query to get all table names\n",
    "tables_query = \"\"\"\n",
    "SELECT schemaname || '.' || tablename AS tablename\n",
    "FROM pg_tables \n",
    "WHERE tablename NOT LIKE 'pg_%'\n",
    "AND tablename NOT LIKE 'sql_%';\n",
    "\"\"\"\n",
    "\n",
    "# Function to fetch and print table data in CSV format\n",
    "def fetch_and_print_table(table_name):\n",
    "    query = f\"SELECT * FROM {table_name};\"\n",
    "    df = pd.read_sql_query(query, conn)\n",
    "    filepath = f\"data/{table_name}.csv\"\n",
    "    print(f\"Saving {filepath}...\")\n",
    "    df.to_csv(filepath, index=False)\n",
    "\n",
    "# Fetch all table names\n",
    "with conn.cursor() as cur:\n",
    "    cur.execute(tables_query)\n",
    "    tables = cur.fetchall()\n",
    "\n",
    "# Iterate over each table and save to `data/` dir\n",
    "if not os.path.exists(OUTPUT_DIR):\n",
    "    os.makedirs(OUTPUT_DIR)\n",
    "    \n",
    "for table in tables:\n",
    "    fetch_and_print_table(table[0])"
   ]
  }
 ],
 "metadata": {
  "kernelspec": {
   "display_name": "Python 3",
   "language": "python",
   "name": "python3"
  },
  "language_info": {
   "codemirror_mode": {
    "name": "ipython",
    "version": 3
   },
   "file_extension": ".py",
   "mimetype": "text/x-python",
   "name": "python",
   "nbconvert_exporter": "python",
   "pygments_lexer": "ipython3",
   "version": "3.6.3"
  }
 },
 "nbformat": 4,
 "nbformat_minor": 4
}
